{
  "nbformat": 4,
  "nbformat_minor": 0,
  "metadata": {
    "colab": {
      "provenance": [],
      "gpuType": "T4"
    },
    "kernelspec": {
      "name": "python3",
      "display_name": "Python 3"
    },
    "language_info": {
      "name": "python"
    },
    "accelerator": "GPU"
  },
  "cells": [
    {
      "cell_type": "markdown",
      "source": [
        "###**Generative Adversarial Networks <br>**\n",
        "\n",
        "(Riya Arora)\n",
        "\n",
        "\n",
        "---"
      ],
      "metadata": {
        "id": "9pTKgi4T8t4I"
      }
    },
    {
      "cell_type": "code",
      "source": [
        "from google.colab import drive\n",
        "drive.mount('/content/drive')"
      ],
      "metadata": {
        "colab": {
          "base_uri": "https://localhost:8080/"
        },
        "id": "ZZG6LwCfY_vj",
        "outputId": "72e863f2-0a85-4451-cef4-3103ed58c33f"
      },
      "execution_count": 1,
      "outputs": [
        {
          "output_type": "stream",
          "name": "stdout",
          "text": [
            "Mounted at /content/drive\n"
          ]
        }
      ]
    },
    {
      "cell_type": "code",
      "source": [
        "import torch\n",
        "from torchvision import datasets, transforms\n",
        "from torch.utils.data import DataLoader\n",
        "import torch.nn.functional as F\n",
        "import torch.nn as nn\n",
        "import pandas as pd\n",
        "import matplotlib.pyplot as plt\n",
        "from torchvision.utils import make_grid\n",
        "\n",
        "import os\n",
        "import kagglehub"
      ],
      "metadata": {
        "id": "nT-JpBiF-xic"
      },
      "execution_count": 123,
      "outputs": []
    },
    {
      "cell_type": "code",
      "execution_count": 3,
      "metadata": {
        "colab": {
          "base_uri": "https://localhost:8080/"
        },
        "id": "LhwdT6J94o_V",
        "outputId": "1d4210c9-a1bd-4413-e74c-d4fe386bef5e"
      },
      "outputs": [
        {
          "output_type": "stream",
          "name": "stdout",
          "text": [
            "cuda\n"
          ]
        }
      ],
      "source": [
        "device = torch.device(\"cuda\" if torch.cuda.is_available() else \"cpu\")\n",
        "print(device)"
      ]
    },
    {
      "cell_type": "markdown",
      "source": [
        "\n",
        "\n",
        "\n",
        "---\n",
        "\n",
        "\n",
        "##### **Part A: Implement standard GAN on MNIST data.**"
      ],
      "metadata": {
        "id": "Rcyc426l9Qgc"
      }
    },
    {
      "cell_type": "markdown",
      "source": [
        "**Dataset Preparation**"
      ],
      "metadata": {
        "id": "cZLma_qr-63O"
      }
    },
    {
      "cell_type": "code",
      "source": [
        "transform = transforms.Compose([\n",
        "    transforms.ToTensor(),\n",
        "    transforms.Normalize((0.5,), (0.5,))\n",
        "])\n",
        "\n",
        "train_dataset = datasets.MNIST(\n",
        "    root=\"./data\", train=True, transform=transforms.ToTensor(), download=True\n",
        ")\n",
        "test_dataset = datasets.MNIST(\n",
        "    root=\"./data\", train=False, transform=transforms.ToTensor(), download=True\n",
        ")"
      ],
      "metadata": {
        "id": "p0RpN5j5BUhl"
      },
      "execution_count": 124,
      "outputs": []
    },
    {
      "cell_type": "code",
      "source": [
        "train_loader = DataLoader(train_dataset, batch_size=32, shuffle=True)\n",
        "\n",
        "# 1 Batch is like\n",
        "for images, labels in train_loader:\n",
        "    print(images.shape)\n",
        "    break"
      ],
      "metadata": {
        "colab": {
          "base_uri": "https://localhost:8080/"
        },
        "id": "IObis2tyBdZS",
        "outputId": "2e287256-7750-45c9-e4e2-3b9e62b76d27"
      },
      "execution_count": 125,
      "outputs": [
        {
          "output_type": "stream",
          "name": "stdout",
          "text": [
            "torch.Size([32, 1, 28, 28])\n"
          ]
        }
      ]
    },
    {
      "cell_type": "code",
      "source": [
        "# Displaying MNIST messages\n",
        "dataiter = iter(train_loader)\n",
        "images, labels = next(dataiter)\n",
        "\n",
        "def denormalize(img):\n",
        "    img = img * 0.5 + 0.5\n",
        "    return img\n",
        "\n",
        "images = denormalize(images)\n",
        "\n",
        "grid = make_grid(images[:16], nrow=4)\n",
        "plt.figure(figsize=(8, 8))\n",
        "plt.imshow(grid.permute(1, 2, 0).numpy())\n",
        "plt.axis(\"off\")\n",
        "plt.title(\"Images from DataLoader\")\n",
        "plt.show()\n"
      ],
      "metadata": {
        "colab": {
          "base_uri": "https://localhost:8080/",
          "height": 675
        },
        "id": "lvmY6dOTqebh",
        "outputId": "13719598-51b7-481d-8e51-89ee91e16b8b"
      },
      "execution_count": 126,
      "outputs": [
        {
          "output_type": "display_data",
          "data": {
            "text/plain": [
              "<Figure size 800x800 with 1 Axes>"
            ],
            "image/png": "[encoded data removed]"
          },
          "metadata": {}
        }
      ]
    },
    {
      "cell_type": "markdown",
      "source": [
        "**Model Set-Up**"
      ],
      "metadata": {
        "id": "qIxaS1wo1yOC"
      }
    },
    {
      "cell_type": "code",
      "source": [
        "# Fully connected layers generator didn't work well, thus new generator with below architecture has been used\n",
        "\n",
        "# class Generator(nn.Module):\n",
        "#     def __init__(self, z_dim):\n",
        "#         super(Generator, self).__init__()\n",
        "\n",
        "#         # Using only fully connected layers for now\n",
        "#         # Hoping for results because MNIST dataset should be simple enough\n",
        "#         # Will try later with linear + deconvolutional layers\n",
        "#         self.fc1 = nn.Linear(z_dim, 256)\n",
        "#         self.bn1 = nn.BatchNorm1d(256)\n",
        "#         self.fc2 = nn.Linear(256, 512)\n",
        "#         self.bn2 = nn.BatchNorm1d(512)\n",
        "#         self.fc3 = nn.Linear(512, 1024)\n",
        "#         self.bn3 = nn.BatchNorm1d(1024)\n",
        "#         self.fc4 = nn.Linear(1024, 28*28)\n",
        "#         self.tanh = nn.Tanh()\n",
        "\n",
        "#     def forward(self, z):\n",
        "#         z = torch.relu(self.bn1(self.fc1(z)))\n",
        "#         z = torch.relu(self.bn2(self.fc2(z)))\n",
        "#         z = torch.relu(self.bn3(self.fc3(z)))\n",
        "#         z = self.fc4(z)\n",
        "#         z = z.view(z.size(0), 1, 28, 28)\n",
        "#         return self.tanh(z)"
      ],
      "metadata": {
        "id": "vwkE4JJcC0nC"
      },
      "execution_count": 128,
      "outputs": []
    },
    {
      "cell_type": "code",
      "source": [
        "class Generator(nn.Module):\n",
        "    def __init__(self, z_dim):\n",
        "        super(Generator, self).__init__()\n",
        "\n",
        "        self.net = nn.Sequential(\n",
        "            nn.Linear(z_dim, 7 * 7 * 128),\n",
        "            nn.BatchNorm1d(7 * 7 * 128),\n",
        "            nn.ReLU(),\n",
        "            nn.Unflatten(1, (128, 7, 7)),\n",
        "            nn.ConvTranspose2d(128, 64, kernel_size=4, stride=2, padding=1),\n",
        "            nn.BatchNorm2d(64),\n",
        "            nn.ReLU(),\n",
        "            nn.ConvTranspose2d(64, 1, kernel_size=4, stride=2, padding=1),\n",
        "            nn.Tanh()\n",
        "        )\n",
        "\n",
        "    def forward(self, z):\n",
        "        return self.net(z)"
      ],
      "metadata": {
        "id": "r0vk5Mx0vtnM"
      },
      "execution_count": 129,
      "outputs": []
    },
    {
      "cell_type": "code",
      "source": [
        "# This discriminator was too strong for the generator to learn, thus introduced less layers and dropout in the below architecture.\n",
        "\n",
        "# class Discriminator(nn.Module):\n",
        "#     def __init__(self):\n",
        "#         super(Discriminator, self).__init__()\n",
        "\n",
        "#         # Using only fully-connected layers for now\n",
        "#         self.fc1 = nn.Linear(28*28, 1024)\n",
        "#         self.fc2 = nn.Linear(1024, 512)\n",
        "#         self.fc3 = nn.Linear(512, 256)\n",
        "#         self.fc4 = nn.Linear(256, 1)\n",
        "#         self.sigmoid = nn.Sigmoid()\n",
        "\n",
        "#     def forward(self, x):\n",
        "#         x = x.view(x.size(0), -1)\n",
        "#         x = F.leaky_relu(self.fc1(x), 0.2)\n",
        "#         x = F.leaky_relu(self.fc2(x), 0.2)\n",
        "#         x = F.leaky_relu(self.fc3(x), 0.2)\n",
        "#         x = self.fc4(x)\n",
        "#         x = self.sigmoid(x)\n",
        "#         return x"
      ],
      "metadata": {
        "id": "7SDGQeLg7e_-"
      },
      "execution_count": 130,
      "outputs": []
    },
    {
      "cell_type": "code",
      "source": [
        "class Discriminator(nn.Module):\n",
        "    def __init__(self):\n",
        "        super(Discriminator, self).__init__()\n",
        "\n",
        "        self.fc1 = nn.Linear(28 * 28, 512)\n",
        "        self.dropout1 = nn.Dropout(0.3)\n",
        "        self.fc2 = nn.Linear(512, 256)\n",
        "        self.dropout2 = nn.Dropout(0.3)\n",
        "        self.fc3 = nn.Linear(256, 128)\n",
        "        self.dropout3 = nn.Dropout(0.3)\n",
        "        self.fc4 = nn.Linear(128, 1)\n",
        "        self.sigmoid = nn.Sigmoid()\n",
        "\n",
        "    def forward(self, x):\n",
        "        x = x.view(x.size(0), -1)\n",
        "        x = F.leaky_relu(self.fc1(x), 0.2)\n",
        "        x = self.dropout1(x)\n",
        "        x = F.leaky_relu(self.fc2(x), 0.2)\n",
        "        x = self.dropout2(x)\n",
        "        x = F.leaky_relu(self.fc3(x), 0.2)\n",
        "        x = self.dropout3(x)\n",
        "        x = self.fc4(x)\n",
        "        x = self.sigmoid(x)\n",
        "        return x"
      ],
      "metadata": {
        "id": "lk29Q65176wI"
      },
      "execution_count": 131,
      "outputs": []
    },
    {
      "cell_type": "code",
      "source": [
        "# Weight initialization\n",
        "def xavier_weights_init(m):\n",
        "    if isinstance(m, nn. Linear):\n",
        "        nn.init.xavier_normal_(m.weight)\n",
        "        if m.bias is not None:\n",
        "            nn.init.constant_(m.bias, 0)"
      ],
      "metadata": {
        "id": "T0e40Zc0KYfV"
      },
      "execution_count": 132,
      "outputs": []
    },
    {
      "cell_type": "code",
      "source": [
        "# Simulating a run of input through the model (Not training yet)\n",
        "\n",
        "z_dim = 100\n",
        "batch_size = 32\n",
        "generator = Generator(z_dim)\n",
        "discriminator = Discriminator()\n",
        "\n",
        "generator.apply(xavier_weights_init)\n",
        "discriminator.apply(xavier_weights_init)\n",
        "\n",
        "random_noise_input = torch.randn(batch_size, z_dim)\n",
        "generated_images = generator(random_noise_input)\n",
        "generated_images = generated_images.view(generated_images.size(0), -1)\n",
        "\n",
        "real_images, _ = next(iter(train_loader))\n",
        "real_images = real_images.view(real_images.size(0), -1)\n",
        "\n",
        "real_output = discriminator(real_images)\n",
        "fake_output = discriminator(generated_images)\n",
        "\n",
        "print(real_output)\n",
        "print(fake_output)"
      ],
      "metadata": {
        "id": "p6RC8uwW9FqR",
        "colab": {
          "base_uri": "https://localhost:8080/"
        },
        "outputId": "128e3200-288e-4390-a639-c69b13d6a1d4"
      },
      "execution_count": 133,
      "outputs": [
        {
          "output_type": "stream",
          "name": "stdout",
          "text": [
            "tensor([[0.5407],\n",
            "        [0.4521],\n",
            "        [0.3746],\n",
            "        [0.2401],\n",
            "        [0.2980],\n",
            "        [0.4382],\n",
            "        [0.3548],\n",
            "        [0.4655],\n",
            "        [0.3983],\n",
            "        [0.2921],\n",
            "        [0.4692],\n",
            "        [0.4355],\n",
            "        [0.2910],\n",
            "        [0.4320],\n",
            "        [0.3883],\n",
            "        [0.4038],\n",
            "        [0.4396],\n",
            "        [0.3847],\n",
            "        [0.2358],\n",
            "        [0.4290],\n",
            "        [0.3649],\n",
            "        [0.3061],\n",
            "        [0.1910],\n",
            "        [0.3777],\n",
            "        [0.3304],\n",
            "        [0.3495],\n",
            "        [0.2382],\n",
            "        [0.4601],\n",
            "        [0.4371],\n",
            "        [0.3105],\n",
            "        [0.4291],\n",
            "        [0.4709]], grad_fn=<SigmoidBackward0>)\n",
            "tensor([[0.3685],\n",
            "        [0.5925],\n",
            "        [0.7416],\n",
            "        [0.4492],\n",
            "        [0.3264],\n",
            "        [0.5372],\n",
            "        [0.2421],\n",
            "        [0.3572],\n",
            "        [0.2941],\n",
            "        [0.3870],\n",
            "        [0.2374],\n",
            "        [0.3837],\n",
            "        [0.3074],\n",
            "        [0.1438],\n",
            "        [0.4943],\n",
            "        [0.2307],\n",
            "        [0.3576],\n",
            "        [0.4152],\n",
            "        [0.5472],\n",
            "        [0.1710],\n",
            "        [0.4636],\n",
            "        [0.4384],\n",
            "        [0.3205],\n",
            "        [0.3213],\n",
            "        [0.6608],\n",
            "        [0.1401],\n",
            "        [0.5399],\n",
            "        [0.3046],\n",
            "        [0.2523],\n",
            "        [0.3140],\n",
            "        [0.2785],\n",
            "        [0.3081]], grad_fn=<SigmoidBackward0>)\n"
          ]
        }
      ]
    },
    {
      "cell_type": "markdown",
      "source": [
        "**Introducing Loss Functions**"
      ],
      "metadata": {
        "id": "5A4fx49_Q_Mq"
      }
    },
    {
      "cell_type": "code",
      "source": [
        "# Introducing generator loss function\n",
        "\n",
        "z_dim = 100\n",
        "batch_size = 32\n",
        "bce_loss = nn.BCELoss()\n",
        "real_label = 0.9 # Trying with smoothening\n",
        "fake_label = 0.0\n",
        "\n",
        "g1 = Generator(z_dim).to(device)\n",
        "g1.apply(xavier_weights_init)\n",
        "d1 = Discriminator().to(device)\n",
        "d1.apply(xavier_weights_init)\n",
        "\n",
        "real_images, _ = next(iter(train_loader))\n",
        "real_images = real_images.to(device).view(real_images.size(0), -1)\n",
        "real_output = d1(real_images)\n",
        "d1_real_loss = bce_loss(real_output, torch.full((batch_size, 1), real_label, device = device))\n",
        "\n",
        "random_noise_input = torch.randn(batch_size, z_dim, device = device)\n",
        "generated_images = g1(random_noise_input)\n",
        "generated_images = generated_images.view(generated_images.size(0), -1)\n",
        "fake_output = d1(generated_images.detach())\n",
        "d1_fake_loss = bce_loss(fake_output, torch.full((batch_size, 1), fake_label, device = device))\n",
        "\n",
        "d1_total_loss = d1_real_loss + d1_fake_loss"
      ],
      "metadata": {
        "id": "vZ8aN2X0_UIC"
      },
      "execution_count": 136,
      "outputs": []
    },
    {
      "cell_type": "code",
      "source": [
        "# Introducing discriminator loss function\n",
        "\n",
        "fake_output = d1(generated_images)\n",
        "g1_total_loss = bce_loss(fake_output, torch.full((batch_size, 1), real_label, device = device))\n"
      ],
      "metadata": {
        "id": "yi-cUlKENcbC"
      },
      "execution_count": 137,
      "outputs": []
    },
    {
      "cell_type": "markdown",
      "source": [
        "**GAN Training**"
      ],
      "metadata": {
        "id": "SFHqghptRHKz"
      }
    },
    {
      "cell_type": "code",
      "source": [
        "# Setting the hyperparameters\n",
        "\n",
        "z_dim = 100\n",
        "batch_size = 64\n",
        "lr = 0.0001\n",
        "d_lr = 0.00002\n",
        "momentum = 0.5\n",
        "epochs = 200"
      ],
      "metadata": {
        "id": "ptIz7iIYOSgs"
      },
      "execution_count": 145,
      "outputs": []
    },
    {
      "cell_type": "code",
      "source": [
        "# Model, Optimizers and Loss\n",
        "\n",
        "G = Generator(z_dim).to(device)\n",
        "D = Discriminator().to(device)\n",
        "G.apply(xavier_weights_init)\n",
        "D.apply(xavier_weights_init)\n",
        "\n",
        "G_optimizer = torch.optim.Adam(G.parameters(), lr=lr, betas=(momentum, 0.999))\n",
        "D_optimizer = torch.optim.Adam(D.parameters(), lr=d_lr, betas=(momentum, 0.999))\n",
        "\n",
        "torch.nn.utils.clip_grad_norm_(D.parameters(), max_norm=1.0)\n",
        "\n",
        "bce_loss = nn.BCELoss()"
      ],
      "metadata": {
        "id": "62VfpheWRjwx"
      },
      "execution_count": 146,
      "outputs": []
    },
    {
      "cell_type": "code",
      "source": [
        "# Metrics through the epochs\n",
        "G_losses = []\n",
        "D_losses = []\n",
        "D_accuracies = []"
      ],
      "metadata": {
        "id": "f6tcFjhEVaXR"
      },
      "execution_count": 147,
      "outputs": []
    },
    {
      "cell_type": "code",
      "source": [
        "# Saving and Loading Checkpoints\n",
        "\n",
        "import torch\n",
        "\n",
        "def save_checkpoint(epoch, g_model, d_model, g_optimizer, d_optimizer,checkpoint_path):\n",
        "    checkpoint = {\n",
        "        'epoch': epoch,\n",
        "        'g_model_state_dict': g_model.state_dict(),\n",
        "        'd_model_state_dict': d_model.state_dict(),\n",
        "        'g_optimizer_state_dict': g_optimizer.state_dict(),\n",
        "        'd_optimizer_state_dict': d_optimizer.state_dict(),\n",
        "    }\n",
        "    torch.save(checkpoint, checkpoint_path)\n",
        "    print(f\"Checkpoint saved at epoch {epoch} to {checkpoint_path}\")\n",
        "\n",
        "def load_checkpoint(checkpoint_path, g_model, d_model, g_optimizer, d_optimizer):\n",
        "    checkpoint = torch.load(checkpoint_path)\n",
        "    g_model.load_state_dict(checkpoint['g_model_state_dict'])\n",
        "    d_model.load_state_dict(checkpoint['d_model_state_dict'])\n",
        "    g_optimizer.load_state_dict(checkpoint['g_optimizer_state_dict'])\n",
        "    d_optimizer.load_state_dict(checkpoint['d_optimizer_state_dict'])\n",
        "    epoch = checkpoint['epoch']\n",
        "\n",
        "    print(f\"Checkpoint loaded from epoch {epoch} from {checkpoint_path}\")\n",
        "    return epoch"
      ],
      "metadata": {
        "id": "-RdZ_cBHW53E"
      },
      "execution_count": 148,
      "outputs": []
    },
    {
      "cell_type": "code",
      "source": [
        "# Training\n",
        "update_var = 0\n",
        "checkpoint_path = '/content/drive/MyDrive/gen-ai/gan-results/gan_ckpt.pth'\n",
        "for epoch in range(epochs):\n",
        "    for real_images, _ in train_loader:\n",
        "        real_images = real_images.to(device).view(real_images.size(0), -1)\n",
        "\n",
        "        real_labels = torch.full((real_images.size(0), 1), 0.8, device=device)\n",
        "        fake_labels = torch.full((real_images.size(0), 1), 0.2, device=device)\n",
        "        # Discriminator part\n",
        "\n",
        "        real_output = D(real_images)\n",
        "        D_real_loss = bce_loss(real_output, real_labels)\n",
        "\n",
        "        random_noise = torch.randn(real_images.size(0), z_dim, device=device)\n",
        "        generated_images = G(random_noise)\n",
        "        fake_output = D(generated_images.detach())\n",
        "        D_fake_loss = bce_loss(fake_output, fake_labels)\n",
        "        D_total_loss = D_real_loss + D_fake_loss\n",
        "\n",
        "        if (update_var == 0):\n",
        "          D_optimizer.zero_grad()\n",
        "          D_total_loss.backward()\n",
        "          D_optimizer.step()\n",
        "\n",
        "        # Calculate discriminator accuracy\n",
        "        real_correct = (real_output > 0.5).float().sum().item()\n",
        "        fake_correct = (fake_output < 0.5).float().sum().item()\n",
        "\n",
        "        # Total samples\n",
        "        real_total = real_images.size(0)\n",
        "        fake_total = generated_images.size(0)\n",
        "\n",
        "        # Average accuracy\n",
        "        D_accuracy = (real_correct + fake_correct) / (real_total + fake_total)\n",
        "\n",
        "\n",
        "        random_noise = torch.randn(real_images.size(0), z_dim, device=device)\n",
        "        fake_labels.fill_(1.0)\n",
        "        generated_images = G(random_noise)\n",
        "        fake_output = D(generated_images)\n",
        "        G_loss = bce_loss(fake_output, fake_labels)\n",
        "\n",
        "        G_optimizer.zero_grad()\n",
        "        G_loss.backward()\n",
        "        G_optimizer.step()\n",
        "\n",
        "        G_losses.append(G_loss.item())\n",
        "        D_losses.append(D_total_loss.item())\n",
        "        D_accuracies.append(D_accuracy)\n",
        "\n",
        "        update_var = (update_var + 1) % 5\n",
        "\n",
        "    # Save checkpoint at intervals\n",
        "    if (epoch % 10 == 0 or epoch == (epochs-1)):\n",
        "        save_checkpoint(epoch, G, D, G_optimizer, D_optimizer, checkpoint_path)\n",
        "\n",
        "    # Print progress\n",
        "    print(f\"Epoch [{epoch+1}/{epochs}]  D Loss: {D_total_loss.item():.4f}  G Loss: {G_loss.item():.4f} D Accuracy: {D_accuracy:.4f}\")\n"
      ],
      "metadata": {
        "colab": {
          "base_uri": "https://localhost:8080/"
        },
        "id": "3HZlT3OzSTj2",
        "outputId": "fa16563c-2efa-451d-c56c-14c3bd1720dc"
      },
      "execution_count": 149,
      "outputs": [
        {
          "output_type": "stream",
          "name": "stdout",
          "text": [
            "Checkpoint saved at epoch 0 to /content/drive/MyDrive/gen-ai/gan-results/gan_ckpt.pth\n",
            "Epoch [1/200]  D Loss: 1.6325  G Loss: 0.6390 D Accuracy: 0.3125\n",
            "Epoch [2/200]  D Loss: 1.5055  G Loss: 0.6410 D Accuracy: 0.3281\n",
            "Epoch [3/200]  D Loss: 1.4554  G Loss: 0.6639 D Accuracy: 0.3125\n",
            "Epoch [4/200]  D Loss: 1.4484  G Loss: 0.6444 D Accuracy: 0.4062\n",
            "Epoch [5/200]  D Loss: 1.4227  G Loss: 0.6958 D Accuracy: 0.4375\n",
            "Epoch [6/200]  D Loss: 1.4440  G Loss: 0.6799 D Accuracy: 0.4062\n",
            "Epoch [7/200]  D Loss: 1.4030  G Loss: 0.6670 D Accuracy: 0.4844\n",
            "Epoch [8/200]  D Loss: 1.4126  G Loss: 0.6780 D Accuracy: 0.4375\n",
            "Epoch [9/200]  D Loss: 1.4123  G Loss: 0.6441 D Accuracy: 0.3594\n",
            "Epoch [10/200]  D Loss: 1.4085  G Loss: 0.6837 D Accuracy: 0.3281\n",
            "Checkpoint saved at epoch 10 to /content/drive/MyDrive/gen-ai/gan-results/gan_ckpt.pth\n",
            "Epoch [11/200]  D Loss: 1.4050  G Loss: 0.6904 D Accuracy: 0.5312\n",
            "Epoch [12/200]  D Loss: 1.3794  G Loss: 0.6930 D Accuracy: 0.5938\n",
            "Epoch [13/200]  D Loss: 1.3927  G Loss: 0.6958 D Accuracy: 0.5469\n",
            "Epoch [14/200]  D Loss: 1.3912  G Loss: 0.6896 D Accuracy: 0.6094\n",
            "Epoch [15/200]  D Loss: 1.3974  G Loss: 0.6971 D Accuracy: 0.4531\n",
            "Epoch [16/200]  D Loss: 1.4052  G Loss: 0.6903 D Accuracy: 0.3906\n",
            "Epoch [17/200]  D Loss: 1.3983  G Loss: 0.6959 D Accuracy: 0.4844\n",
            "Epoch [18/200]  D Loss: 1.3998  G Loss: 0.7018 D Accuracy: 0.4375\n",
            "Epoch [19/200]  D Loss: 1.3861  G Loss: 0.6954 D Accuracy: 0.5625\n",
            "Epoch [20/200]  D Loss: 1.3919  G Loss: 0.7088 D Accuracy: 0.5000\n",
            "Checkpoint saved at epoch 20 to /content/drive/MyDrive/gen-ai/gan-results/gan_ckpt.pth\n",
            "Epoch [21/200]  D Loss: 1.3968  G Loss: 0.6986 D Accuracy: 0.4688\n",
            "Epoch [22/200]  D Loss: 1.3978  G Loss: 0.6932 D Accuracy: 0.4219\n",
            "Epoch [23/200]  D Loss: 1.3874  G Loss: 0.6943 D Accuracy: 0.5312\n",
            "Epoch [24/200]  D Loss: 1.3785  G Loss: 0.6872 D Accuracy: 0.5625\n",
            "Epoch [25/200]  D Loss: 1.3889  G Loss: 0.6890 D Accuracy: 0.4844\n",
            "Epoch [26/200]  D Loss: 1.3840  G Loss: 0.6981 D Accuracy: 0.5312\n",
            "Epoch [27/200]  D Loss: 1.3912  G Loss: 0.6918 D Accuracy: 0.3438\n",
            "Epoch [28/200]  D Loss: 1.3810  G Loss: 0.6941 D Accuracy: 0.5625\n",
            "Epoch [29/200]  D Loss: 1.3835  G Loss: 0.6970 D Accuracy: 0.5625\n",
            "Epoch [30/200]  D Loss: 1.3876  G Loss: 0.6958 D Accuracy: 0.5000\n",
            "Checkpoint saved at epoch 30 to /content/drive/MyDrive/gen-ai/gan-results/gan_ckpt.pth\n",
            "Epoch [31/200]  D Loss: 1.3865  G Loss: 0.6986 D Accuracy: 0.5781\n",
            "Epoch [32/200]  D Loss: 1.3865  G Loss: 0.6953 D Accuracy: 0.4688\n",
            "Epoch [33/200]  D Loss: 1.3866  G Loss: 0.6936 D Accuracy: 0.5938\n",
            "Epoch [34/200]  D Loss: 1.3937  G Loss: 0.6904 D Accuracy: 0.3906\n",
            "Epoch [35/200]  D Loss: 1.3764  G Loss: 0.6897 D Accuracy: 0.6094\n",
            "Epoch [36/200]  D Loss: 1.3928  G Loss: 0.6952 D Accuracy: 0.4688\n",
            "Epoch [37/200]  D Loss: 1.3889  G Loss: 0.6921 D Accuracy: 0.3906\n",
            "Epoch [38/200]  D Loss: 1.3801  G Loss: 0.6974 D Accuracy: 0.5469\n",
            "Epoch [39/200]  D Loss: 1.3911  G Loss: 0.6923 D Accuracy: 0.4844\n",
            "Epoch [40/200]  D Loss: 1.3871  G Loss: 0.6949 D Accuracy: 0.5781\n",
            "Checkpoint saved at epoch 40 to /content/drive/MyDrive/gen-ai/gan-results/gan_ckpt.pth\n",
            "Epoch [41/200]  D Loss: 1.3913  G Loss: 0.6998 D Accuracy: 0.3750\n",
            "Epoch [42/200]  D Loss: 1.3917  G Loss: 0.6903 D Accuracy: 0.4062\n",
            "Epoch [43/200]  D Loss: 1.3868  G Loss: 0.6954 D Accuracy: 0.5312\n",
            "Epoch [44/200]  D Loss: 1.3969  G Loss: 0.6853 D Accuracy: 0.3750\n",
            "Epoch [45/200]  D Loss: 1.3870  G Loss: 0.6937 D Accuracy: 0.4219\n",
            "Epoch [46/200]  D Loss: 1.3896  G Loss: 0.6922 D Accuracy: 0.4844\n",
            "Epoch [47/200]  D Loss: 1.3830  G Loss: 0.6915 D Accuracy: 0.5312\n",
            "Epoch [48/200]  D Loss: 1.3871  G Loss: 0.6970 D Accuracy: 0.4688\n",
            "Epoch [49/200]  D Loss: 1.3869  G Loss: 0.6886 D Accuracy: 0.4688\n",
            "Epoch [50/200]  D Loss: 1.3853  G Loss: 0.7025 D Accuracy: 0.5156\n",
            "Checkpoint saved at epoch 50 to /content/drive/MyDrive/gen-ai/gan-results/gan_ckpt.pth\n",
            "Epoch [51/200]  D Loss: 1.3863  G Loss: 0.6943 D Accuracy: 0.5625\n",
            "Epoch [52/200]  D Loss: 1.3855  G Loss: 0.6957 D Accuracy: 0.4844\n",
            "Epoch [53/200]  D Loss: 1.3875  G Loss: 0.6838 D Accuracy: 0.5156\n",
            "Epoch [54/200]  D Loss: 1.3896  G Loss: 0.6927 D Accuracy: 0.4062\n",
            "Epoch [55/200]  D Loss: 1.3856  G Loss: 0.6895 D Accuracy: 0.4844\n",
            "Epoch [56/200]  D Loss: 1.3874  G Loss: 0.6951 D Accuracy: 0.5625\n",
            "Epoch [57/200]  D Loss: 1.3823  G Loss: 0.6979 D Accuracy: 0.4844\n",
            "Epoch [58/200]  D Loss: 1.3840  G Loss: 0.6941 D Accuracy: 0.5312\n",
            "Epoch [59/200]  D Loss: 1.3873  G Loss: 0.6934 D Accuracy: 0.5312\n",
            "Epoch [60/200]  D Loss: 1.3883  G Loss: 0.6840 D Accuracy: 0.5312\n",
            "Checkpoint saved at epoch 60 to /content/drive/MyDrive/gen-ai/gan-results/gan_ckpt.pth\n",
            "Epoch [61/200]  D Loss: 1.3853  G Loss: 0.6883 D Accuracy: 0.4844\n",
            "Epoch [62/200]  D Loss: 1.3863  G Loss: 0.6944 D Accuracy: 0.4375\n",
            "Epoch [63/200]  D Loss: 1.3861  G Loss: 0.6825 D Accuracy: 0.5781\n",
            "Epoch [64/200]  D Loss: 1.3844  G Loss: 0.6911 D Accuracy: 0.5312\n",
            "Epoch [65/200]  D Loss: 1.3912  G Loss: 0.6996 D Accuracy: 0.4844\n",
            "Epoch [66/200]  D Loss: 1.3898  G Loss: 0.6961 D Accuracy: 0.4062\n",
            "Epoch [67/200]  D Loss: 1.3878  G Loss: 0.6911 D Accuracy: 0.5000\n",
            "Epoch [68/200]  D Loss: 1.3891  G Loss: 0.6960 D Accuracy: 0.4688\n",
            "Epoch [69/200]  D Loss: 1.3867  G Loss: 0.6972 D Accuracy: 0.5312\n",
            "Epoch [70/200]  D Loss: 1.3871  G Loss: 0.6924 D Accuracy: 0.5781\n",
            "Checkpoint saved at epoch 70 to /content/drive/MyDrive/gen-ai/gan-results/gan_ckpt.pth\n",
            "Epoch [71/200]  D Loss: 1.3914  G Loss: 0.6935 D Accuracy: 0.4375\n",
            "Epoch [72/200]  D Loss: 1.3871  G Loss: 0.6942 D Accuracy: 0.4688\n",
            "Epoch [73/200]  D Loss: 1.3854  G Loss: 0.6907 D Accuracy: 0.5469\n",
            "Epoch [74/200]  D Loss: 1.3892  G Loss: 0.6876 D Accuracy: 0.5312\n",
            "Epoch [75/200]  D Loss: 1.3876  G Loss: 0.6848 D Accuracy: 0.5000\n",
            "Epoch [76/200]  D Loss: 1.3832  G Loss: 0.6961 D Accuracy: 0.5625\n",
            "Epoch [77/200]  D Loss: 1.3900  G Loss: 0.6941 D Accuracy: 0.4531\n",
            "Epoch [78/200]  D Loss: 1.3832  G Loss: 0.6942 D Accuracy: 0.5312\n",
            "Epoch [79/200]  D Loss: 1.3892  G Loss: 0.6919 D Accuracy: 0.4219\n",
            "Epoch [80/200]  D Loss: 1.3881  G Loss: 0.6904 D Accuracy: 0.5156\n",
            "Checkpoint saved at epoch 80 to /content/drive/MyDrive/gen-ai/gan-results/gan_ckpt.pth\n",
            "Epoch [81/200]  D Loss: 1.3850  G Loss: 0.6926 D Accuracy: 0.5156\n",
            "Epoch [82/200]  D Loss: 1.3881  G Loss: 0.6982 D Accuracy: 0.4688\n",
            "Epoch [83/200]  D Loss: 1.3895  G Loss: 0.6925 D Accuracy: 0.4531\n",
            "Epoch [84/200]  D Loss: 1.3850  G Loss: 0.6931 D Accuracy: 0.4688\n",
            "Epoch [85/200]  D Loss: 1.3894  G Loss: 0.6920 D Accuracy: 0.4688\n",
            "Epoch [86/200]  D Loss: 1.3875  G Loss: 0.6891 D Accuracy: 0.4375\n",
            "Epoch [87/200]  D Loss: 1.3866  G Loss: 0.6962 D Accuracy: 0.5312\n",
            "Epoch [88/200]  D Loss: 1.3863  G Loss: 0.6956 D Accuracy: 0.5312\n",
            "Epoch [89/200]  D Loss: 1.3879  G Loss: 0.6964 D Accuracy: 0.4531\n",
            "Epoch [90/200]  D Loss: 1.3824  G Loss: 0.6942 D Accuracy: 0.6094\n",
            "Checkpoint saved at epoch 90 to /content/drive/MyDrive/gen-ai/gan-results/gan_ckpt.pth\n",
            "Epoch [91/200]  D Loss: 1.3903  G Loss: 0.6947 D Accuracy: 0.5000\n",
            "Epoch [92/200]  D Loss: 1.3840  G Loss: 0.6906 D Accuracy: 0.5000\n",
            "Epoch [93/200]  D Loss: 1.3843  G Loss: 0.6927 D Accuracy: 0.5938\n",
            "Epoch [94/200]  D Loss: 1.3879  G Loss: 0.7001 D Accuracy: 0.4219\n",
            "Epoch [95/200]  D Loss: 1.3852  G Loss: 0.6950 D Accuracy: 0.6094\n",
            "Epoch [96/200]  D Loss: 1.3892  G Loss: 0.6942 D Accuracy: 0.5000\n",
            "Epoch [97/200]  D Loss: 1.3855  G Loss: 0.6961 D Accuracy: 0.5469\n",
            "Epoch [98/200]  D Loss: 1.3852  G Loss: 0.6900 D Accuracy: 0.5625\n",
            "Epoch [99/200]  D Loss: 1.3837  G Loss: 0.6939 D Accuracy: 0.5469\n",
            "Epoch [100/200]  D Loss: 1.3881  G Loss: 0.6941 D Accuracy: 0.5312\n",
            "Checkpoint saved at epoch 100 to /content/drive/MyDrive/gen-ai/gan-results/gan_ckpt.pth\n",
            "Epoch [101/200]  D Loss: 1.3873  G Loss: 0.6918 D Accuracy: 0.4688\n",
            "Epoch [102/200]  D Loss: 1.3844  G Loss: 0.6963 D Accuracy: 0.5312\n",
            "Epoch [103/200]  D Loss: 1.3841  G Loss: 0.6899 D Accuracy: 0.6406\n",
            "Epoch [104/200]  D Loss: 1.3841  G Loss: 0.6975 D Accuracy: 0.4844\n",
            "Epoch [105/200]  D Loss: 1.3878  G Loss: 0.6911 D Accuracy: 0.4688\n",
            "Epoch [106/200]  D Loss: 1.3869  G Loss: 0.6971 D Accuracy: 0.4844\n",
            "Epoch [107/200]  D Loss: 1.3837  G Loss: 0.6924 D Accuracy: 0.5156\n",
            "Epoch [108/200]  D Loss: 1.3869  G Loss: 0.6987 D Accuracy: 0.5156\n",
            "Epoch [109/200]  D Loss: 1.3804  G Loss: 0.6900 D Accuracy: 0.6875\n",
            "Epoch [110/200]  D Loss: 1.3779  G Loss: 0.6992 D Accuracy: 0.5938\n",
            "Checkpoint saved at epoch 110 to /content/drive/MyDrive/gen-ai/gan-results/gan_ckpt.pth\n",
            "Epoch [111/200]  D Loss: 1.3846  G Loss: 0.6937 D Accuracy: 0.5625\n",
            "Epoch [112/200]  D Loss: 1.3809  G Loss: 0.6920 D Accuracy: 0.6094\n",
            "Epoch [113/200]  D Loss: 1.3809  G Loss: 0.6881 D Accuracy: 0.6094\n",
            "Epoch [114/200]  D Loss: 1.3804  G Loss: 0.6988 D Accuracy: 0.5781\n",
            "Epoch [115/200]  D Loss: 1.3886  G Loss: 0.6898 D Accuracy: 0.5000\n",
            "Epoch [116/200]  D Loss: 1.3849  G Loss: 0.6943 D Accuracy: 0.5469\n",
            "Epoch [117/200]  D Loss: 1.3828  G Loss: 0.6922 D Accuracy: 0.4688\n",
            "Epoch [118/200]  D Loss: 1.3886  G Loss: 0.6942 D Accuracy: 0.4375\n",
            "Epoch [119/200]  D Loss: 1.3882  G Loss: 0.6920 D Accuracy: 0.4531\n",
            "Epoch [120/200]  D Loss: 1.3783  G Loss: 0.6870 D Accuracy: 0.5938\n",
            "Checkpoint saved at epoch 120 to /content/drive/MyDrive/gen-ai/gan-results/gan_ckpt.pth\n",
            "Epoch [121/200]  D Loss: 1.3773  G Loss: 0.6909 D Accuracy: 0.6250\n",
            "Epoch [122/200]  D Loss: 1.3820  G Loss: 0.6967 D Accuracy: 0.5938\n",
            "Epoch [123/200]  D Loss: 1.3788  G Loss: 0.6958 D Accuracy: 0.5625\n",
            "Epoch [124/200]  D Loss: 1.3817  G Loss: 0.6964 D Accuracy: 0.6250\n",
            "Epoch [125/200]  D Loss: 1.3846  G Loss: 0.7015 D Accuracy: 0.5469\n",
            "Epoch [126/200]  D Loss: 1.3888  G Loss: 0.6995 D Accuracy: 0.4844\n",
            "Epoch [127/200]  D Loss: 1.3840  G Loss: 0.6908 D Accuracy: 0.4531\n",
            "Epoch [128/200]  D Loss: 1.3810  G Loss: 0.6870 D Accuracy: 0.6250\n",
            "Epoch [129/200]  D Loss: 1.3867  G Loss: 0.6916 D Accuracy: 0.5312\n",
            "Epoch [130/200]  D Loss: 1.3851  G Loss: 0.6951 D Accuracy: 0.5469\n",
            "Checkpoint saved at epoch 130 to /content/drive/MyDrive/gen-ai/gan-results/gan_ckpt.pth\n",
            "Epoch [131/200]  D Loss: 1.3841  G Loss: 0.6962 D Accuracy: 0.4219\n",
            "Epoch [132/200]  D Loss: 1.3780  G Loss: 0.6946 D Accuracy: 0.6250\n",
            "Epoch [133/200]  D Loss: 1.3863  G Loss: 0.6984 D Accuracy: 0.4844\n",
            "Epoch [134/200]  D Loss: 1.3828  G Loss: 0.6942 D Accuracy: 0.5938\n",
            "Epoch [135/200]  D Loss: 1.3866  G Loss: 0.6988 D Accuracy: 0.5000\n",
            "Epoch [136/200]  D Loss: 1.3847  G Loss: 0.6951 D Accuracy: 0.5000\n",
            "Epoch [137/200]  D Loss: 1.3891  G Loss: 0.6956 D Accuracy: 0.4375\n",
            "Epoch [138/200]  D Loss: 1.3796  G Loss: 0.7019 D Accuracy: 0.5312\n",
            "Epoch [139/200]  D Loss: 1.3813  G Loss: 0.6927 D Accuracy: 0.6094\n",
            "Epoch [140/200]  D Loss: 1.3839  G Loss: 0.6910 D Accuracy: 0.5312\n",
            "Checkpoint saved at epoch 140 to /content/drive/MyDrive/gen-ai/gan-results/gan_ckpt.pth\n",
            "Epoch [141/200]  D Loss: 1.3869  G Loss: 0.7021 D Accuracy: 0.4688\n",
            "Epoch [142/200]  D Loss: 1.3808  G Loss: 0.6999 D Accuracy: 0.6250\n",
            "Epoch [143/200]  D Loss: 1.3780  G Loss: 0.6939 D Accuracy: 0.5625\n",
            "Epoch [144/200]  D Loss: 1.3907  G Loss: 0.6901 D Accuracy: 0.4375\n",
            "Epoch [145/200]  D Loss: 1.3871  G Loss: 0.6920 D Accuracy: 0.4688\n",
            "Epoch [146/200]  D Loss: 1.3865  G Loss: 0.6948 D Accuracy: 0.5000\n",
            "Epoch [147/200]  D Loss: 1.3793  G Loss: 0.6876 D Accuracy: 0.5781\n",
            "Epoch [148/200]  D Loss: 1.3853  G Loss: 0.6976 D Accuracy: 0.5469\n",
            "Epoch [149/200]  D Loss: 1.3839  G Loss: 0.7009 D Accuracy: 0.5000\n",
            "Epoch [150/200]  D Loss: 1.3901  G Loss: 0.6901 D Accuracy: 0.5312\n",
            "Checkpoint saved at epoch 150 to /content/drive/MyDrive/gen-ai/gan-results/gan_ckpt.pth\n",
            "Epoch [151/200]  D Loss: 1.3825  G Loss: 0.6935 D Accuracy: 0.5938\n",
            "Epoch [152/200]  D Loss: 1.3802  G Loss: 0.6931 D Accuracy: 0.5469\n",
            "Epoch [153/200]  D Loss: 1.3906  G Loss: 0.6914 D Accuracy: 0.4844\n",
            "Epoch [154/200]  D Loss: 1.3882  G Loss: 0.6849 D Accuracy: 0.5156\n",
            "Epoch [155/200]  D Loss: 1.3818  G Loss: 0.7049 D Accuracy: 0.5156\n",
            "Epoch [156/200]  D Loss: 1.3870  G Loss: 0.6916 D Accuracy: 0.5312\n",
            "Epoch [157/200]  D Loss: 1.3815  G Loss: 0.6920 D Accuracy: 0.6875\n",
            "Epoch [158/200]  D Loss: 1.3850  G Loss: 0.6998 D Accuracy: 0.4844\n",
            "Epoch [159/200]  D Loss: 1.3853  G Loss: 0.6931 D Accuracy: 0.5312\n",
            "Epoch [160/200]  D Loss: 1.3830  G Loss: 0.7020 D Accuracy: 0.5156\n",
            "Checkpoint saved at epoch 160 to /content/drive/MyDrive/gen-ai/gan-results/gan_ckpt.pth\n",
            "Epoch [161/200]  D Loss: 1.3849  G Loss: 0.6979 D Accuracy: 0.5938\n",
            "Epoch [162/200]  D Loss: 1.3801  G Loss: 0.6919 D Accuracy: 0.6094\n",
            "Epoch [163/200]  D Loss: 1.3867  G Loss: 0.6907 D Accuracy: 0.5625\n",
            "Epoch [164/200]  D Loss: 1.3916  G Loss: 0.6988 D Accuracy: 0.4219\n",
            "Epoch [165/200]  D Loss: 1.3866  G Loss: 0.7015 D Accuracy: 0.5156\n",
            "Epoch [166/200]  D Loss: 1.3870  G Loss: 0.7000 D Accuracy: 0.5781\n",
            "Epoch [167/200]  D Loss: 1.3805  G Loss: 0.7015 D Accuracy: 0.6406\n",
            "Epoch [168/200]  D Loss: 1.3839  G Loss: 0.6989 D Accuracy: 0.5312\n",
            "Epoch [169/200]  D Loss: 1.3775  G Loss: 0.6937 D Accuracy: 0.6562\n",
            "Epoch [170/200]  D Loss: 1.3827  G Loss: 0.6957 D Accuracy: 0.5625\n",
            "Checkpoint saved at epoch 170 to /content/drive/MyDrive/gen-ai/gan-results/gan_ckpt.pth\n",
            "Epoch [171/200]  D Loss: 1.3897  G Loss: 0.6893 D Accuracy: 0.4375\n",
            "Epoch [172/200]  D Loss: 1.3814  G Loss: 0.6843 D Accuracy: 0.6250\n",
            "Epoch [173/200]  D Loss: 1.3856  G Loss: 0.7004 D Accuracy: 0.5000\n",
            "Epoch [174/200]  D Loss: 1.3844  G Loss: 0.6991 D Accuracy: 0.5312\n",
            "Epoch [175/200]  D Loss: 1.3823  G Loss: 0.6908 D Accuracy: 0.5312\n",
            "Epoch [176/200]  D Loss: 1.3784  G Loss: 0.6955 D Accuracy: 0.5938\n",
            "Epoch [177/200]  D Loss: 1.3980  G Loss: 0.6992 D Accuracy: 0.3281\n",
            "Epoch [178/200]  D Loss: 1.3898  G Loss: 0.6927 D Accuracy: 0.4062\n",
            "Epoch [179/200]  D Loss: 1.3803  G Loss: 0.6926 D Accuracy: 0.5312\n",
            "Epoch [180/200]  D Loss: 1.3808  G Loss: 0.7009 D Accuracy: 0.5781\n",
            "Checkpoint saved at epoch 180 to /content/drive/MyDrive/gen-ai/gan-results/gan_ckpt.pth\n",
            "Epoch [181/200]  D Loss: 1.3876  G Loss: 0.7025 D Accuracy: 0.4219\n",
            "Epoch [182/200]  D Loss: 1.3897  G Loss: 0.6931 D Accuracy: 0.4375\n",
            "Epoch [183/200]  D Loss: 1.3969  G Loss: 0.6961 D Accuracy: 0.4531\n",
            "Epoch [184/200]  D Loss: 1.3852  G Loss: 0.6933 D Accuracy: 0.5938\n",
            "Epoch [185/200]  D Loss: 1.3887  G Loss: 0.6957 D Accuracy: 0.5469\n",
            "Epoch [186/200]  D Loss: 1.3803  G Loss: 0.7061 D Accuracy: 0.6094\n",
            "Epoch [187/200]  D Loss: 1.3772  G Loss: 0.6956 D Accuracy: 0.5938\n",
            "Epoch [188/200]  D Loss: 1.3783  G Loss: 0.6969 D Accuracy: 0.6094\n",
            "Epoch [189/200]  D Loss: 1.3871  G Loss: 0.6979 D Accuracy: 0.5312\n",
            "Epoch [190/200]  D Loss: 1.3971  G Loss: 0.6983 D Accuracy: 0.4375\n",
            "Checkpoint saved at epoch 190 to /content/drive/MyDrive/gen-ai/gan-results/gan_ckpt.pth\n",
            "Epoch [191/200]  D Loss: 1.3841  G Loss: 0.6971 D Accuracy: 0.5000\n",
            "Epoch [192/200]  D Loss: 1.3865  G Loss: 0.7023 D Accuracy: 0.5781\n",
            "Epoch [193/200]  D Loss: 1.3874  G Loss: 0.6906 D Accuracy: 0.4844\n",
            "Epoch [194/200]  D Loss: 1.3798  G Loss: 0.6895 D Accuracy: 0.5938\n",
            "Epoch [195/200]  D Loss: 1.3728  G Loss: 0.7052 D Accuracy: 0.6562\n",
            "Epoch [196/200]  D Loss: 1.3825  G Loss: 0.7013 D Accuracy: 0.5156\n",
            "Epoch [197/200]  D Loss: 1.3792  G Loss: 0.6996 D Accuracy: 0.6562\n",
            "Epoch [198/200]  D Loss: 1.3871  G Loss: 0.6951 D Accuracy: 0.4844\n",
            "Epoch [199/200]  D Loss: 1.3835  G Loss: 0.6845 D Accuracy: 0.5312\n",
            "Checkpoint saved at epoch 199 to /content/drive/MyDrive/gen-ai/gan-results/gan_ckpt.pth\n",
            "Epoch [200/200]  D Loss: 1.3825  G Loss: 0.7058 D Accuracy: 0.5781\n"
          ]
        }
      ]
    },
    {
      "cell_type": "code",
      "source": [
        "print(len(G_losses))\n",
        "print(len(D_losses))\n",
        "print(len(D_accuracies))"
      ],
      "metadata": {
        "colab": {
          "base_uri": "https://localhost:8080/"
        },
        "id": "TP_JocPVAfse",
        "outputId": "93550ce8-2a06-4220-df43-78932d63759d"
      },
      "execution_count": 156,
      "outputs": [
        {
          "output_type": "stream",
          "name": "stdout",
          "text": [
            "375000\n",
            "375000\n",
            "375000\n"
          ]
        }
      ]
    },
    {
      "cell_type": "code",
      "source": [
        "# Saving metrics to disk\n",
        "\n",
        "metrics_df = pd.DataFrame({\n",
        "    \"g_losses\": G_losses,\n",
        "    \"d_losses\": D_losses,\n",
        "    \"d_accuracies\": D_accuracies\n",
        "})\n",
        "\n",
        "metrics_save_path = '/content/drive/MyDrive/gen-ai/gan-results/metrics.csv'\n",
        "metrics_df.to_csv(metrics_save_path, index=False)"
      ],
      "metadata": {
        "id": "vNApoW8MU5km"
      },
      "execution_count": 157,
      "outputs": []
    },
    {
      "cell_type": "code",
      "source": [
        "# Reading metrics from disk\n",
        "\n",
        "metrics_read_path = '/content/drive/MyDrive/gen-ai/gan-results/metrics.csv'\n",
        "metrics_df = pd.read_csv(metrics_read_path)\n",
        "\n",
        "G_losses = metrics_df[\"g_losses\"].tolist()\n",
        "D_losses = metrics_df[\"d_losses\"].tolist()\n",
        "D_accuracies = metrics_df[\"d_accuracies\"].tolist()\n",
        "print(D_accuracies[:100])"
      ],
      "metadata": {
        "id": "MLdqtxE0WaBX",
        "colab": {
          "base_uri": "https://localhost:8080/"
        },
        "outputId": "3f565e69-1561-43ef-8186-d065b28c7664"
      },
      "execution_count": 158,
      "outputs": [
        {
          "output_type": "stream",
          "name": "stdout",
          "text": [
            "[0.515625, 0.578125, 0.53125, 0.5, 0.5625, 0.46875, 0.5, 0.5, 0.46875, 0.5, 0.46875, 0.484375, 0.484375, 0.46875, 0.53125, 0.453125, 0.5, 0.515625, 0.515625, 0.453125, 0.4375, 0.515625, 0.53125, 0.453125, 0.46875, 0.484375, 0.5, 0.484375, 0.515625, 0.46875, 0.5, 0.484375, 0.5, 0.46875, 0.484375, 0.5, 0.453125, 0.484375, 0.484375, 0.5, 0.453125, 0.515625, 0.484375, 0.484375, 0.484375, 0.4375, 0.46875, 0.515625, 0.421875, 0.484375, 0.5, 0.5, 0.484375, 0.484375, 0.515625, 0.484375, 0.4375, 0.5, 0.5, 0.484375, 0.46875, 0.53125, 0.46875, 0.5, 0.46875, 0.46875, 0.453125, 0.421875, 0.4375, 0.5, 0.46875, 0.484375, 0.5, 0.46875, 0.484375, 0.484375, 0.453125, 0.484375, 0.515625, 0.484375, 0.40625, 0.5625, 0.5, 0.453125, 0.453125, 0.5, 0.5, 0.484375, 0.515625, 0.484375, 0.515625, 0.515625, 0.421875, 0.484375, 0.46875, 0.515625, 0.5, 0.53125, 0.5, 0.4375]\n"
          ]
        }
      ]
    },
    {
      "cell_type": "code",
      "source": [
        "print(len(train_loader))"
      ],
      "metadata": {
        "id": "6aOdp_5Qaopx",
        "colab": {
          "base_uri": "https://localhost:8080/"
        },
        "outputId": "08d0f00e-5447-472c-e32a-79754f630c58"
      },
      "execution_count": 159,
      "outputs": [
        {
          "output_type": "stream",
          "name": "stdout",
          "text": [
            "1875\n"
          ]
        }
      ]
    },
    {
      "cell_type": "code",
      "source": [
        "group_size = 1875\n",
        "\n",
        "average_loss = []\n",
        "for i in range(0, len(D_accuracies), group_size):\n",
        "    chunk = D_accuracies[i:i + group_size]\n",
        "    chunk_average = sum(chunk) / len(chunk)\n",
        "    average_loss.append(chunk_average)\n",
        "\n",
        "print(average_loss)"
      ],
      "metadata": {
        "id": "4HkoM0obb9JO",
        "colab": {
          "base_uri": "https://localhost:8080/"
        },
        "outputId": "0d16f536-bf01-4bb2-bb4d-1cd5f1b26f8b"
      },
      "execution_count": 160,
      "outputs": [
        {
          "output_type": "stream",
          "name": "stdout",
          "text": [
            "[0.3178, 0.28475833333333334, 0.29965, 0.3339416666666667, 0.368575, 0.39974166666666666, 0.4161916666666667, 0.42620833333333336, 0.4363666666666667, 0.4454, 0.45941666666666664, 0.46553333333333335, 0.46425833333333333, 0.46758333333333335, 0.4683083333333333, 0.47179166666666666, 0.4759583333333333, 0.4792166666666667, 0.47936666666666666, 0.481675, 0.4811166666666667, 0.4835583333333333, 0.48573333333333335, 0.4845, 0.48789166666666667, 0.485975, 0.4873416666666667, 0.48833333333333334, 0.48894166666666666, 0.49004166666666665, 0.4908416666666667, 0.4897666666666667, 0.49406666666666665, 0.49135833333333334, 0.493275, 0.490225, 0.49183333333333334, 0.49480833333333335, 0.495925, 0.49411666666666665, 0.4956083333333333, 0.495425, 0.49695833333333334, 0.49430833333333335, 0.495725, 0.49455, 0.4971, 0.4979166666666667, 0.4960833333333333, 0.4967083333333333, 0.49855, 0.5007583333333333, 0.498025, 0.49861666666666665, 0.49928333333333336, 0.49851666666666666, 0.5008833333333333, 0.5011166666666667, 0.5030083333333333, 0.50295, 0.49743333333333334, 0.5018666666666667, 0.5012166666666666, 0.5036166666666667, 0.4997, 0.499975, 0.4977916666666667, 0.5023666666666666, 0.5033583333333334, 0.501425, 0.5013916666666667, 0.5041, 0.5023166666666666, 0.5022666666666666, 0.5033916666666667, 0.5020083333333333, 0.5010166666666667, 0.5019666666666667, 0.504, 0.5054833333333333, 0.5049083333333333, 0.506, 0.50455, 0.505975, 0.5063416666666667, 0.5068833333333334, 0.5035, 0.5073416666666667, 0.5069, 0.507725, 0.507075, 0.5064416666666667, 0.5085, 0.5081916666666667, 0.5110083333333333, 0.5096833333333334, 0.5114583333333333, 0.5126333333333334, 0.5105333333333333, 0.5123416666666667, 0.512325, 0.51255, 0.5116083333333333, 0.5107916666666666, 0.5151, 0.5135583333333333, 0.513325, 0.5135583333333333, 0.5144083333333334, 0.5152333333333333, 0.5158583333333333, 0.5129416666666666, 0.5130166666666667, 0.5155, 0.5146833333333334, 0.5166583333333333, 0.519725, 0.5171833333333333, 0.517375, 0.5191833333333333, 0.5177083333333333, 0.5178833333333334, 0.5191083333333333, 0.51845, 0.5203166666666666, 0.5167, 0.52095, 0.518725, 0.520925, 0.5218583333333333, 0.521125, 0.5191916666666667, 0.5218416666666666, 0.5223, 0.5214666666666666, 0.5221166666666667, 0.5216666666666666, 0.520775, 0.5231916666666667, 0.5211666666666667, 0.5228166666666667, 0.5233666666666666, 0.5226166666666666, 0.52325, 0.5249333333333334, 0.525275, 0.5248583333333333, 0.5246833333333333, 0.5225333333333333, 0.5241333333333333, 0.522425, 0.5239166666666667, 0.5243416666666667, 0.52485, 0.5263666666666666, 0.5262, 0.5263916666666667, 0.5293166666666667, 0.52615, 0.52465, 0.52675, 0.5267583333333333, 0.5263333333333333, 0.5289416666666666, 0.52775, 0.528225, 0.5275166666666666, 0.5289166666666667, 0.52645, 0.5276583333333333, 0.5286666666666666, 0.5270333333333334, 0.52815, 0.5306583333333333, 0.5310833333333334, 0.528275, 0.5316583333333333, 0.5299416666666666, 0.5326583333333333, 0.5294166666666666, 0.5314583333333334, 0.5326, 0.530575, 0.5309833333333334, 0.5322166666666667, 0.5339666666666667, 0.5322916666666667, 0.5311166666666667, 0.53495, 0.5334, 0.5327333333333333, 0.5355416666666667, 0.5343333333333333, 0.5336, 0.5336583333333333, 0.537775, 0.5356416666666667, 0.5385, 0.5351083333333333, 0.5357083333333333]\n"
          ]
        }
      ]
    },
    {
      "cell_type": "code",
      "source": [
        "# Trying to generate images with GAN (with denormalization)\n",
        "\n",
        "num_images = 16\n",
        "ckpt = torch.load(checkpoint_path)\n",
        "G.load_state_dict(ckpt['g_model_state_dict'])\n",
        "G.eval()\n",
        "\n",
        "random_noise = torch.randn(num_images, z_dim, device=device)\n",
        "generated_images = G(random_noise)\n",
        "# print(generated_images.min().item(), generated_images.max().item())\n",
        "generated_images = (generated_images + 1) / 2\n",
        "generated_images = generated_images.view(num_images, 1, 28, 28).detach().cpu()\n",
        "\n",
        "grid = make_grid(generated_images, nrow=4, padding=2, normalize=False)\n",
        "\n",
        "plt.figure(figsize=(8, 8))\n",
        "plt.imshow(grid.permute(1, 2, 0), cmap='gray')  # Convert to HWC for plotting\n",
        "plt.axis('off')\n",
        "plt.title(\"Generated Images Grid\")\n",
        "plt.show()"
      ],
      "metadata": {
        "id": "mXSYS5kWfaeB",
        "colab": {
          "base_uri": "https://localhost:8080/",
          "height": 730
        },
        "outputId": "a43ead44-c549-4eba-e1c2-719c27c8b5a0"
      },
      "execution_count": 166,
      "outputs": [
        {
          "output_type": "stream",
          "name": "stderr",
          "text": [
            "<ipython-input-166-25a8e672bc80>:4: FutureWarning: You are using `torch.load` with `weights_only=False` (the current default value), which uses the default pickle module implicitly. It is possible to construct malicious pickle data which will execute arbitrary code during unpickling (See https://github.com/pytorch/pytorch/blob/main/SECURITY.md#untrusted-models for more details). In a future release, the default value for `weights_only` will be flipped to `True`. This limits the functions that could be executed during unpickling. Arbitrary objects will no longer be allowed to be loaded via this mode unless they are explicitly allowlisted by the user via `torch.serialization.add_safe_globals`. We recommend you start setting `weights_only=True` for any use case where you don't have full control of the loaded file. Please open an issue on GitHub for any issues related to this experimental feature.\n",
            "  ckpt = torch.load(checkpoint_path)\n"
          ]
        },
        {
          "output_type": "display_data",
          "data": {
            "text/plain": [
              "<Figure size 800x800 with 1 Axes>"
            ],
            "image/png": "[encoded data removed]"
          },
          "metadata": {}
        }
      ]
    },
    {
      "cell_type": "code",
      "source": [],
      "metadata": {
        "id": "0QrIEF_EXXxb"
      },
      "execution_count": null,
      "outputs": []
    }
  ]
}